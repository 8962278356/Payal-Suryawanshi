{
 "cells": [
  {
   "cell_type": "markdown",
   "id": "0d574970",
   "metadata": {},
   "source": [
    "## Introduction to python"
   ]
  },
  {
   "cell_type": "code",
   "execution_count": null,
   "id": "fbde889c",
   "metadata": {},
   "outputs": [],
   "source": [
    "#Python is an interpreted and a high level programming language\n",
    "#created by Guido Van Rossum in 1989\n",
    "#features of python :-\n",
    "#1- it is interpreted and is platform independent- means it can be used in windows, linux, mac \n",
    "#2- it is open source programming language\n",
    "#3- support all big library\n",
    "#4- it has built in module and external module"
   ]
  },
  {
   "cell_type": "code",
   "execution_count": null,
   "id": "cd2fa332",
   "metadata": {},
   "outputs": [],
   "source": [
    "print(\"hello world\")# when we use round brackets () we use a function with it, \n",
    "#means print is a function (\"hello world\") is a input parameter or value"
   ]
  },
  {
   "cell_type": "code",
   "execution_count": null,
   "id": "cfd39353",
   "metadata": {},
   "outputs": [],
   "source": [
    "#ways of running a cell\n",
    "#1- ctrl+enter- runs the code and stays on the same cell\n",
    "#2- shift+ enter- runs the code and comes to the next cell"
   ]
  },
  {
   "cell_type": "code",
   "execution_count": null,
   "id": "657343f8",
   "metadata": {},
   "outputs": [],
   "source": [
    "#backslash'\\'- treats the following character having special significance\n",
    "# \"\\n\" - next line character\n",
    "# \"\\t\" - tab character"
   ]
  },
  {
   "cell_type": "code",
   "execution_count": null,
   "id": "39fd68b7",
   "metadata": {},
   "outputs": [],
   "source": [
    "print(\"how is this session\", \"\\n\", \"is it good?\" ) # came to next line"
   ]
  },
  {
   "cell_type": "code",
   "execution_count": null,
   "id": "8612da86",
   "metadata": {},
   "outputs": [],
   "source": [
    "print (\"how is the session\", \"\\t\", \"is it bad\") # gave space(tab) between two sentence"
   ]
  },
  {
   "cell_type": "markdown",
   "id": "aff79476",
   "metadata": {},
   "source": [
    "#VALUES AND VARIABLES"
   ]
  },
  {
   "cell_type": "code",
   "execution_count": null,
   "id": "d769014d",
   "metadata": {},
   "outputs": [],
   "source": [
    "#create a variable with a name and assign a value to it\n",
    "count_of_glass= 15 #count_of_glass is th variable name and 15 is the value stored in the variable"
   ]
  },
  {
   "cell_type": "code",
   "execution_count": null,
   "id": "4cf031a7",
   "metadata": {},
   "outputs": [],
   "source": [
    "#varaible is a storage space\n",
    "#Variables can store data of different types, and different types can do different things.\n",
    "#focus on the type of datatype assigned to the variable\n",
    "#type of varaible will result in the type of mathematical operation"
   ]
  },
  {
   "cell_type": "markdown",
   "id": "ff6fabc3",
   "metadata": {},
   "source": [
    "# DATATYPES:-"
   ]
  },
  {
   "cell_type": "code",
   "execution_count": null,
   "id": "5fd06be8",
   "metadata": {},
   "outputs": [],
   "source": [
    "#integar- int - without decimal numeric type\n",
    "#float- with decimal numeric type, float can also be scientific numbers with an \"e\" to indicate the power of 10.\n",
    "#boolean- true/false- bool\n",
    "#string- str- \"strings can be created using single or double quotes\"- text type\n",
    "#list, tuple, range- Sequence Type\n",
    "#compex- Complex numbers are written with a \"j\" as the imaginary part:3+5j, -5j"
   ]
  },
  {
   "cell_type": "code",
   "execution_count": null,
   "id": "b1675204",
   "metadata": {
    "scrolled": true
   },
   "outputs": [],
   "source": [
    "number_of_sheets=15\n",
    "print(number_of_sheets)\n",
    "weight_of_sheets= 2.8\n",
    "print(weight_of_sheets)\n",
    "wish = \"wish me luck\"\n",
    "print(wish)\n",
    "greator=(10>5)\n",
    "print(greator)\n",
    "lessor= (10<2)\n",
    "print(lessor)\n"
   ]
  },
  {
   "cell_type": "code",
   "execution_count": null,
   "id": "ebdc6969",
   "metadata": {},
   "outputs": [],
   "source": [
    "#to know the datatyoes of value we can use the command type()"
   ]
  },
  {
   "cell_type": "code",
   "execution_count": null,
   "id": "2b91a9c5",
   "metadata": {},
   "outputs": [],
   "source": [
    "type(15)"
   ]
  },
  {
   "cell_type": "code",
   "execution_count": null,
   "id": "90982107",
   "metadata": {},
   "outputs": [],
   "source": [
    "type(lessor)"
   ]
  },
  {
   "cell_type": "code",
   "execution_count": null,
   "id": "b230e0b0",
   "metadata": {},
   "outputs": [],
   "source": [
    "type(\"wish me luck\")"
   ]
  },
  {
   "cell_type": "code",
   "execution_count": null,
   "id": "1deed814",
   "metadata": {},
   "outputs": [],
   "source": [
    "type(2.8)"
   ]
  },
  {
   "cell_type": "markdown",
   "id": "2b9420d3",
   "metadata": {},
   "source": [
    "#OPERATOR"
   ]
  },
  {
   "cell_type": "code",
   "execution_count": null,
   "id": "c05b1307",
   "metadata": {},
   "outputs": [],
   "source": [
    "#Arithmatic operator\n",
    "# + addition 15+10\n",
    "# - substraction 15-10\n",
    "# * multiplictaion 15*10\n",
    "# / divison 15/10 #gives us the quotient\n",
    "# % modulas 15% 7 #givess us the remainder \n",
    "# // floor division 15//3 #roundsoff the result down to the nearest integer\n",
    "# ** exponential 15**3 #means cube of 15= 15*15*15"
   ]
  },
  {
   "cell_type": "code",
   "execution_count": null,
   "id": "9937ad9a",
   "metadata": {},
   "outputs": [],
   "source": [
    "#difference between equality operator \"==\" and assignment operator \"=\"\n",
    "\n",
    "#x=1 means assigning the value 1 in x variable\n",
    "#x==1 means comparing two values or variable"
   ]
  },
  {
   "cell_type": "code",
   "execution_count": null,
   "id": "396ea124",
   "metadata": {},
   "outputs": [],
   "source": [
    "#lets assign value to a variable\n",
    "\n",
    "temperature= 40\n",
    "day=(\"friday\")\n",
    "month= \"december\"\n",
    "\n",
    "print(temperature, day, month)"
   ]
  },
  {
   "cell_type": "code",
   "execution_count": null,
   "id": "4de0c4f7",
   "metadata": {},
   "outputs": [],
   "source": [
    "#now we will use equality and assignment operator\n",
    "temperature==40"
   ]
  },
  {
   "cell_type": "code",
   "execution_count": null,
   "id": "49315713",
   "metadata": {},
   "outputs": [],
   "source": [
    "temperature==20\n"
   ]
  },
  {
   "cell_type": "code",
   "execution_count": null,
   "id": "b9ee9d34",
   "metadata": {},
   "outputs": [],
   "source": [
    "month==\"jan\""
   ]
  },
  {
   "cell_type": "code",
   "execution_count": null,
   "id": "52f0f2c5",
   "metadata": {},
   "outputs": [],
   "source": [
    "day==(\"friday\")"
   ]
  },
  {
   "cell_type": "code",
   "execution_count": null,
   "id": "ddd183e6",
   "metadata": {},
   "outputs": [],
   "source": [
    "#boolean can be converted to numbers\n",
    "#true becomes 1 #false becomes 0 #true+true+false = 1+1+0= 2"
   ]
  },
  {
   "cell_type": "code",
   "execution_count": null,
   "id": "c47a59ab",
   "metadata": {},
   "outputs": [],
   "source": [
    "#USE OF VARAIBLE AND OPERATORS"
   ]
  },
  {
   "cell_type": "code",
   "execution_count": null,
   "id": "6cdab3c2",
   "metadata": {},
   "outputs": [],
   "source": [
    "X= 10\n",
    "Y= 20\n",
    "P= 2\n",
    "Q= 8\n",
    "sum_values= X+Y+P+Q\n",
    "print(sum_values)"
   ]
  },
  {
   "cell_type": "code",
   "execution_count": null,
   "id": "d4b654d3",
   "metadata": {},
   "outputs": [],
   "source": [
    "cost_p= 5000\n",
    "selling_p=7000\n",
    "profit= selling_p-cost_p\n",
    "print(profit)"
   ]
  },
  {
   "cell_type": "code",
   "execution_count": null,
   "id": "56cad78e",
   "metadata": {},
   "outputs": [],
   "source": [
    "no_of_books= 50\n",
    "cp_books= 75\n",
    "total_amount= no_of_books* cp_books\n",
    "print(total_amount)\n",
    "cp_1book= total_amount/ no_of_books\n",
    "print(cp_1book)"
   ]
  },
  {
   "cell_type": "code",
   "execution_count": null,
   "id": "aba44d56",
   "metadata": {},
   "outputs": [],
   "source": [
    "profit= (cost_p >selling_p)\n",
    "print(profit)"
   ]
  },
  {
   "cell_type": "code",
   "execution_count": null,
   "id": "34509da8",
   "metadata": {},
   "outputs": [],
   "source": [
    "a= 850\n",
    "b=3\n",
    "quotient=a/b\n",
    "print(\"quotient\", quotient)"
   ]
  },
  {
   "cell_type": "code",
   "execution_count": null,
   "id": "f227aa71",
   "metadata": {},
   "outputs": [],
   "source": [
    "remainder= a%b\n",
    "print(\"remainder\",remainder)"
   ]
  },
  {
   "cell_type": "code",
   "execution_count": null,
   "id": "bb2126fe",
   "metadata": {},
   "outputs": [],
   "source": [
    "#power operator\n",
    "2**5"
   ]
  },
  {
   "cell_type": "code",
   "execution_count": null,
   "id": "8fdde08c",
   "metadata": {},
   "outputs": [],
   "source": [
    "(5 - 1) * ((7 + 1) / (3 - 1)**2) #order of operation: PEMDAS\n",
    "(paranthesis exponents multiplication division addition and subtraction)"
   ]
  },
  {
   "cell_type": "code",
   "execution_count": null,
   "id": "856adc17",
   "metadata": {},
   "outputs": [],
   "source": [
    "#precission \n",
    "10/3"
   ]
  },
  {
   "cell_type": "code",
   "execution_count": null,
   "id": "268ed8f4",
   "metadata": {},
   "outputs": [],
   "source": [
    "round(10/3, 3)# it rounds of the value by givving us the desired result after point as per our given direction i.e 3 \n",
    "#in this case"
   ]
  },
  {
   "cell_type": "code",
   "execution_count": null,
   "id": "5a9f4036",
   "metadata": {},
   "outputs": [],
   "source": []
  },
  {
   "cell_type": "code",
   "execution_count": null,
   "id": "976a9b22",
   "metadata": {},
   "outputs": [],
   "source": [
    "#TYPECASTING IN PYTHON\n",
    "#The conversion on one data type into the other data type is called typecast"
   ]
  },
  {
   "cell_type": "code",
   "execution_count": null,
   "id": "e6c43d5a",
   "metadata": {},
   "outputs": [],
   "source": [
    "temperature= 40\n",
    "type(temperature)"
   ]
  },
  {
   "cell_type": "code",
   "execution_count": null,
   "id": "74cd60b5",
   "metadata": {},
   "outputs": [],
   "source": [
    "str(temperature)"
   ]
  },
  {
   "cell_type": "code",
   "execution_count": null,
   "id": "30366f31",
   "metadata": {},
   "outputs": [],
   "source": [
    "float(temperature)"
   ]
  },
  {
   "cell_type": "code",
   "execution_count": null,
   "id": "49917e57",
   "metadata": {},
   "outputs": [],
   "source": [
    "complex(temperature)"
   ]
  },
  {
   "cell_type": "code",
   "execution_count": null,
   "id": "6b110671",
   "metadata": {},
   "outputs": [],
   "source": [
    "name= \"payal\"\n",
    "type(name)"
   ]
  },
  {
   "cell_type": "code",
   "execution_count": null,
   "id": "e4a0d9a9",
   "metadata": {},
   "outputs": [],
   "source": [
    "list(name)"
   ]
  },
  {
   "cell_type": "code",
   "execution_count": null,
   "id": "ba154b5b",
   "metadata": {},
   "outputs": [],
   "source": [
    "tuple(name)"
   ]
  },
  {
   "cell_type": "code",
   "execution_count": null,
   "id": "14552188",
   "metadata": {},
   "outputs": [],
   "source": [
    "set(name)"
   ]
  },
  {
   "cell_type": "code",
   "execution_count": null,
   "id": "349fe71b",
   "metadata": {},
   "outputs": [],
   "source": [
    "#CONCATENATE means obtaining a new string which contains both of the original strings\n",
    "#in order to merge two strings we use + operator"
   ]
  },
  {
   "cell_type": "code",
   "execution_count": null,
   "id": "e7ed47b4",
   "metadata": {},
   "outputs": [],
   "source": [
    "element_1= \"water\"\n",
    "element_2= \"sun\"\n",
    "element_3= \"air\"\n",
    "print= element_1+element_2+element_3"
   ]
  },
  {
   "cell_type": "markdown",
   "id": "74c3ce7f",
   "metadata": {},
   "source": [
    "##OPERATORS"
   ]
  },
  {
   "cell_type": "code",
   "execution_count": null,
   "id": "dde0f5a8",
   "metadata": {},
   "outputs": [],
   "source": [
    "OR- addition (|)\n",
    "AND- multiplication (&)\n",
    "Not operator (!)\n",
    "A   B   A or B     A   B   A&B\n",
    "T   F   TRUE       T   F   FALSE\n",
    "F   T   TRUE       F   T   FALSE\n",
    "T   T   TRUE       F   F   FALSE\n",
    "F   F   FALSE      T   T   TRUE"
   ]
  },
  {
   "cell_type": "code",
   "execution_count": null,
   "id": "7beae9b4",
   "metadata": {},
   "outputs": [],
   "source": [
    "False | False, True or True, True or False, False or True # we can use \"or\" \"|\" \"and\" \"&\""
   ]
  },
  {
   "cell_type": "code",
   "execution_count": null,
   "id": "e2945acf",
   "metadata": {},
   "outputs": [],
   "source": [
    "False and False, True & True, True & False, False & True # we can use \"or\" \"|\" \"and\" \"&\""
   ]
  },
  {
   "cell_type": "code",
   "execution_count": null,
   "id": "9c40d4d3",
   "metadata": {},
   "outputs": [],
   "source": [
    "False and True"
   ]
  },
  {
   "cell_type": "code",
   "execution_count": null,
   "id": "02b90a58",
   "metadata": {},
   "outputs": [],
   "source": [
    "not True #using not operator"
   ]
  },
  {
   "cell_type": "code",
   "execution_count": null,
   "id": "78b0c761",
   "metadata": {},
   "outputs": [],
   "source": [
    "not False"
   ]
  },
  {
   "cell_type": "code",
   "execution_count": null,
   "id": "5a4d6939",
   "metadata": {},
   "outputs": [],
   "source": [
    "t= True\n",
    "not t"
   ]
  },
  {
   "cell_type": "code",
   "execution_count": null,
   "id": "190d41c8",
   "metadata": {},
   "outputs": [],
   "source": [
    "not(not(True and True)) #combining not with and opeartor"
   ]
  },
  {
   "cell_type": "code",
   "execution_count": null,
   "id": "5055c846",
   "metadata": {},
   "outputs": [],
   "source": [
    "not (True and False)"
   ]
  },
  {
   "cell_type": "code",
   "execution_count": null,
   "id": "232ab135",
   "metadata": {},
   "outputs": [],
   "source": [
    "not(not(False or True)) #combining not with or operator"
   ]
  },
  {
   "cell_type": "code",
   "execution_count": null,
   "id": "3c516cef",
   "metadata": {},
   "outputs": [],
   "source": [
    "not (True or False)"
   ]
  },
  {
   "cell_type": "code",
   "execution_count": null,
   "id": "01e601c2",
   "metadata": {},
   "outputs": [],
   "source": [
    "a= 3\n",
    "a"
   ]
  },
  {
   "cell_type": "code",
   "execution_count": null,
   "id": "1dd92e26",
   "metadata": {},
   "outputs": [],
   "source": [
    "#check if a has the value of 3 \n",
    "a==3"
   ]
  },
  {
   "cell_type": "code",
   "execution_count": null,
   "id": "9687652f",
   "metadata": {},
   "outputs": [],
   "source": [
    "a==5"
   ]
  },
  {
   "cell_type": "code",
   "execution_count": null,
   "id": "6aea83b4",
   "metadata": {},
   "outputs": [],
   "source": [
    "market_price= 80\n",
    "selling_price= 980\n",
    "total_exp= 980\n",
    "selling_price== total_exp"
   ]
  },
  {
   "cell_type": "code",
   "execution_count": null,
   "id": "f3f1c306",
   "metadata": {},
   "outputs": [],
   "source": [
    "selling_price==market_price"
   ]
  },
  {
   "cell_type": "code",
   "execution_count": null,
   "id": "0361be7b",
   "metadata": {},
   "outputs": [],
   "source": [
    "980 == total_exp"
   ]
  },
  {
   "cell_type": "code",
   "execution_count": null,
   "id": "541b2e96",
   "metadata": {},
   "outputs": [],
   "source": [
    "# Olympic champion Neeraj Chopra throws Javelin 89.3 m in a practice session\n",
    "# he held the previous national record of 88.07m\n",
    "last_throw =89.3\n",
    "national_record = 88.07\n",
    "\n",
    "# check if his last throw matched his previous record\n",
    "last_throw >= national_record"
   ]
  },
  {
   "cell_type": "code",
   "execution_count": null,
   "id": "29da22d0",
   "metadata": {},
   "outputs": [],
   "source": [
    "name_inform = \"payal suryawanshi\"\n",
    "name_inaadhar = \"payal suryawanshi\"\n",
    "#check if the name is same in form and aadhar\n",
    "name_inform == name_inaadhar"
   ]
  },
  {
   "cell_type": "code",
   "execution_count": null,
   "id": "cc92a7ea",
   "metadata": {},
   "outputs": [],
   "source": [
    "name_inform = \"Payal Suryawanshi\"\n",
    "name_inaadhar = \"payal suryawanshi\"\n",
    "\n",
    "name_inform== name_inaadhar\n",
    "#checking with upper case and lower case"
   ]
  },
  {
   "cell_type": "code",
   "execution_count": null,
   "id": "ebe82c4b",
   "metadata": {},
   "outputs": [],
   "source": [
    "#creating a variable for cutoff marks in a university, comparing the marks and checking the eligibility\n",
    "\n",
    "cut_off= 98\n",
    "\n",
    "marks_maths= 86\n",
    "marks_english= 99\n",
    "marks_social= 98\n",
    "marks_sanskrit= 90\n",
    "\n",
    "#checking if marks is greator than or equal to cut off marks\n",
    "marks_maths>= cut_off, marks_english>= cut_off, marks_social>=cut_off, marks_sanskrit>= cut_off\n",
    "\n",
    "#using operator greator than to compare the values"
   ]
  },
  {
   "cell_type": "code",
   "execution_count": null,
   "id": "2a3ae653",
   "metadata": {},
   "outputs": [],
   "source": [
    "# Banks approve loans if the EMI due is less than half of the applicant's take home salary per month\n",
    "# create a variable for take home salary\n",
    "salary_of_employee= 8000\n",
    "emi= 4000\n",
    "\n",
    "#check if bank will provide loan or reject the loan\n",
    "emi< salary_of_employee/2"
   ]
  },
  {
   "cell_type": "markdown",
   "id": "98322c32",
   "metadata": {},
   "source": [
    "# IF STATEMENT"
   ]
  },
  {
   "cell_type": "code",
   "execution_count": null,
   "id": "305f2d03",
   "metadata": {},
   "outputs": [],
   "source": [
    "i=5\n",
    "if(i>10):\n",
    "    print(\"i is greator than 10\")\n",
    "else:\n",
    "    print(\"i is less than 10\")"
   ]
  },
  {
   "cell_type": "code",
   "execution_count": null,
   "id": "45ff2829",
   "metadata": {},
   "outputs": [],
   "source": [
    "marks= 100\n",
    "cut_off = 120\n",
    "if(marks> cut_off):\n",
    "    print(\"you can be admitted to the college\")\n",
    "else:\n",
    "    print(\"you can not be admitted to the college\")"
   ]
  },
  {
   "cell_type": "code",
   "execution_count": null,
   "id": "13b4050d",
   "metadata": {},
   "outputs": [],
   "source": [
    "height_m= float(input(\"enter height in meter\"))\n",
    "weight_kg= float(input(\"enter weight in kg\"))\n",
    "BMI= weight_kg/(height_m**2)\n",
    "if(BMI<=18.5):\n",
    "    print(\"you are under weight\")\n",
    "elif(24.9>=BMI>=18.5):\n",
    "    print(\"you are healthy\")\n",
    "elif(29.9>=BMI>=25):\n",
    "    print(\"you are overweight\")\n",
    "else:\n",
    "    print(\"you are obese\")"
   ]
  },
  {
   "cell_type": "code",
   "execution_count": null,
   "id": "0c2f0f13",
   "metadata": {},
   "outputs": [],
   "source": [
    "# writing the same check in different ways\n",
    "# consider the previous exercise related to pass marks of 40.\n",
    "# create a variable to store marks, say the student scored 78\n",
    "# we can test for Fail result using <= 39\n",
    "# or Fail result as < 40"
   ]
  },
  {
   "cell_type": "code",
   "execution_count": null,
   "id": "de18b2a7",
   "metadata": {},
   "outputs": [],
   "source": [
    "marks_scored= int(input(\"enter the marks\"))\n",
    "\n",
    "if(marks_scored>39):\n",
    "    print(\"pass\")\n",
    "else:\n",
    "    print(\"fail\")"
   ]
  },
  {
   "cell_type": "code",
   "execution_count": null,
   "id": "022512d7",
   "metadata": {},
   "outputs": [],
   "source": [
    "# Even numbers are divisible by 2. This means the remainder from a division by 2 is zero.\n",
    "# create a variable to hold a number. how can we check if this number is an even number?"
   ]
  },
  {
   "cell_type": "code",
   "execution_count": null,
   "id": "0ad0392b",
   "metadata": {},
   "outputs": [],
   "source": [
    "number= int(input(\"enter the number\"))\n",
    "if(number%2==0):\n",
    "    print(\"the no is even\")\n",
    "else:\n",
    "    print(\"the no is odd\")"
   ]
  },
  {
   "cell_type": "code",
   "execution_count": null,
   "id": "a742d0d2",
   "metadata": {},
   "outputs": [],
   "source": [
    "# create a variable to hold a number\n",
    "# can you check if this number is divisible by 7?"
   ]
  },
  {
   "cell_type": "code",
   "execution_count": null,
   "id": "e2f591d5",
   "metadata": {},
   "outputs": [],
   "source": [
    "the_number= int(input(\"enter the number\"))\n",
    "if(the_number%7==0):\n",
    "    print(\"number is divisible by 7\")\n",
    "else:\n",
    "    print(\"number is not divisible by 7\")"
   ]
  },
  {
   "cell_type": "code",
   "execution_count": null,
   "id": "ef09deed",
   "metadata": {},
   "outputs": [],
   "source": [
    "#now we will try to print the value using variable"
   ]
  },
  {
   "cell_type": "code",
   "execution_count": null,
   "id": "53202417",
   "metadata": {},
   "outputs": [],
   "source": [
    "height=100\n",
    "admission= \"\"\n",
    "\n",
    "if(height>200):\n",
    "    admission= \"admitted\"\n",
    "elif(height<200):\n",
    "    admission= \"not admitted\"\n",
    "print(admission)"
   ]
  },
  {
   "cell_type": "code",
   "execution_count": null,
   "id": "4b8275c5",
   "metadata": {},
   "outputs": [],
   "source": [
    "# in universities, the following classifications are used: < 40 Fail, 40-59 is Pass, 60-74 First Class\n",
    "# 75 or more is Distinction\n",
    "# can you implement this as a series of if statements?"
   ]
  },
  {
   "cell_type": "code",
   "execution_count": null,
   "id": "87c2c77f",
   "metadata": {},
   "outputs": [],
   "source": [
    "passing_marks= int(input(\"enter your marks\"))\n",
    "if(passing_marks<40):\n",
    "    print(\"fail\")\n",
    "elif((passing_marks>=40) and (passing_marks<=59)):\n",
    "    print(\"pass\")\n",
    "elif((passing_marks>=60) and (passing_marks<=74)):\n",
    "    print(\"first class\")\n",
    "elif(passing_marks>=75):\n",
    "    print(\"hurray! distinction\")"
   ]
  },
  {
   "cell_type": "code",
   "execution_count": null,
   "id": "c108caac",
   "metadata": {},
   "outputs": [],
   "source": [
    "# Exercise:\n",
    "# A country set up this protocol for their spies. Their field agents will call a toll free number.\n",
    "# They will get a harmless voice message that says it is Destination Anywhere and asks them to leave a message.\n",
    "# In response the caller states their password.\n",
    "# if the password is a valid one, a human operator comes online and greets them with their name\n",
    "# In this elite team, there are only three agents alive now. Imagine names, passcodes and implement this.\n",
    "# use only if statements\n"
   ]
  },
  {
   "cell_type": "code",
   "execution_count": null,
   "id": "f0eb27e2",
   "metadata": {},
   "outputs": [],
   "source": [
    "print(\"Destination anywhere welcomes you, leave a message\")\n",
    "password=(input(\"enter the password\"))\n",
    "pass_1= \"Africa_1\"\n",
    "pass_2= \"Europe_2\"\n",
    "pass_3= \"rome_3\"\n",
    "\n",
    "if( (password==pass_1) or (password==pass_2)or (password==pass_3)):\n",
    "    print(\"welcome onboard\")\n",
    "else:\n",
    "    print(\"entry denied\")\n"
   ]
  },
  {
   "cell_type": "code",
   "execution_count": null,
   "id": "803f72ff",
   "metadata": {},
   "outputs": [],
   "source": [
    "#trying to greet them with the names"
   ]
  },
  {
   "cell_type": "code",
   "execution_count": null,
   "id": "6c9804fb",
   "metadata": {},
   "outputs": [],
   "source": [
    "print(\"Destination anywhere welcomes you, leave a message\")\n",
    "password=(input(\"enter the password\"))\n",
    "pass_1= \"Africa_1\"\n",
    "pass_2= \"Europe_2\"\n",
    "pass_3= \"rome_3\"\n",
    "if((password==pass_1) or (password==pass_2)or (password==pass_3)):\n",
    "    print(\"welcome onboard\")\n",
    "    if (password==\"Africa_1\"):\n",
    "        print(\"welcome to head quaters, stewie!!\")\n",
    "    if (password== \"Europe_2\"):\n",
    "        print(\"welcome to the town hall, chandler!!\")\n",
    "    if (password== \"rome_3\"):\n",
    "        print(\"welcome to the den, ross!!\")\n",
    "else:\n",
    "    print(\"restricetd\")\n"
   ]
  },
  {
   "cell_type": "code",
   "execution_count": null,
   "id": "57bfcf65",
   "metadata": {},
   "outputs": [],
   "source": [
    "# Exercise:\n",
    "# a restaurant asks customer for rating on each of ambience, food, and service\n",
    "# customer enters a rating 8 to 10 they are satisfied 6-7 is neutral and lesser rating is dissatisfied\n",
    "# in the end, print a summary like: you were satisfied with our food and ambience but neutral on service\n",
    "\n",
    "\n",
    "# how to implement:\n",
    "# ask for rating using three input statements\n",
    "# using if-elif generate the output\n",
    "\n",
    "ambience= int(input(\"enter your feedback:\"))\n",
    "if (8<=ambience<=10):\n",
    "    print(\" customer is happy\")\n",
    "elif(6<ambience>=7):\n",
    "        print(\"customer is somewhat happy\")\n",
    "elif(ambience<6):\n",
    "    print( \"customer is angry\")\n",
    "    \n"
   ]
  },
  {
   "cell_type": "code",
   "execution_count": null,
   "id": "83e11db0",
   "metadata": {},
   "outputs": [],
   "source": []
  },
  {
   "cell_type": "code",
   "execution_count": null,
   "id": "698a1f2a",
   "metadata": {},
   "outputs": [],
   "source": [
    "# Exercise:\n",
    "# Regarding the diastolic blood pressure:\n",
    "#Normal: Lower than 80\n",
    "#Stage 1 hypertension: 80-89\n",
    "#Stage 2 hypertension: 90 or more\n",
    "# Call for help: 120 or more\n",
    "\n",
    "\n",
    "diastolic_reading= int(input(\"enter you diastolic blood pressure reading:\"))\n",
    "if diastolic_reading<80:\n",
    "    print(\"your blood pressure is normal\")\n",
    "elif 80<= diastolic_reading<=89:\n",
    "    print(\" stage 1 hypertension\")\n",
    "elif 90<= diastolic_reading:\n",
    "    print(\"stage 2 hypertension\")\n",
    "if 120<= diastolic_reading:\n",
    "    print (\"call for help\")"
   ]
  },
  {
   "cell_type": "code",
   "execution_count": null,
   "id": "572ef621",
   "metadata": {},
   "outputs": [],
   "source": [
    "name = input(\"Enter your name\\n\")\n",
    "print(\"Good Afternoon, \" + name)"
   ]
  },
  {
   "cell_type": "code",
   "execution_count": null,
   "id": "8ea24a78",
   "metadata": {},
   "outputs": [],
   "source": [
    "x= 4\n",
    "y= 5\n",
    "if(x> 10):\n",
    "    print(\"greator\")\n",
    "else:\n",
    "    print(\"lessor\")"
   ]
  },
  {
   "cell_type": "code",
   "execution_count": null,
   "id": "a0d0729d",
   "metadata": {},
   "outputs": [],
   "source": [
    "x= 4\n",
    "y= 5\n",
    "if(x*y> 10):\n",
    "    print(\"greator\")\n",
    "else:\n",
    "    print(\"lessor\")"
   ]
  },
  {
   "cell_type": "code",
   "execution_count": null,
   "id": "264d8bf2",
   "metadata": {},
   "outputs": [],
   "source": [
    "x= -1\n",
    "if(x>=-1):\n",
    "    if(x==5):\n",
    "        print(\"true\")\n",
    "    else:\n",
    "        print(\"false\")\n",
    "else:\n",
    "    print(\"negative\")"
   ]
  },
  {
   "cell_type": "code",
   "execution_count": null,
   "id": "e1aa3059",
   "metadata": {},
   "outputs": [],
   "source": [
    "x= -1\n",
    "if(x>=0):\n",
    "    if(x==5):\n",
    "        print(\"true\")\n",
    "    else:\n",
    "        print(\"false\")\n",
    "else:\n",
    "    print(\"negative\")"
   ]
  },
  {
   "cell_type": "code",
   "execution_count": null,
   "id": "8e81aa5e",
   "metadata": {},
   "outputs": [],
   "source": [
    "x= 5\n",
    "if(x>=0):\n",
    "    if(x==5):\n",
    "        print(\"true\")\n",
    "    else:\n",
    "        print(\"false\")\n",
    "else:\n",
    "    print(\"negative\")"
   ]
  },
  {
   "cell_type": "code",
   "execution_count": null,
   "id": "a3cf3fed",
   "metadata": {},
   "outputs": [],
   "source": [
    "#assigning a variable name for marks\n",
    "#comparing the marks and substituting the value with respect to the marks using if, elif and else statments\n",
    "\n",
    "marks= 85\n",
    "if(marks>=75):\n",
    "    print(\"distinction\")\n",
    "elif ((marks>=60)or(marks<=60)):\n",
    "    print(\"first class\")\n",
    "else:\n",
    "    print(\"fail\")"
   ]
  },
  {
   "cell_type": "code",
   "execution_count": null,
   "id": "3abc4081",
   "metadata": {},
   "outputs": [],
   "source": [
    "\n",
    "#assigning value to multiple varaible\n",
    "\n",
    "a=b=c=d= 5\n",
    "if(a==d):\n",
    "    print(\"true\")"
   ]
  },
  {
   "cell_type": "code",
   "execution_count": null,
   "id": "96de45f4",
   "metadata": {},
   "outputs": [],
   "source": [
    "total_math=total_chem=total_phy= 100\n",
    "maths=56\n",
    "chem=63\n",
    "phy=70\n",
    "\n",
    "#calculating % of each subject\n",
    "maths_per= maths*total_math/100\n",
    "print(\"maths percentage\", maths_per, \"%\")\n",
    "chem_per= chem*total_chem/100\n",
    "print(\"chem percentage\", chem_per, \"%\")\n",
    "phy_per= phy*total_phy/100\n",
    "print(\"phy percentage\", phy_per, \"%\")"
   ]
  },
  {
   "cell_type": "code",
   "execution_count": null,
   "id": "d9bc98a5",
   "metadata": {},
   "outputs": [],
   "source": [
    "#assignong multiple values to multiple variable\n",
    "\n",
    "hindi_sum,sanskrit_sum,telegu_sum=120,150,180\n",
    "hindi_score= 95\n",
    "sanskrit_score=70\n",
    "telegu_score= 120\n",
    "\n",
    "#calculating % of each subject\n",
    "per_hindi= hindi_score*hindi_sum/100\n",
    "print(per_hindi,\"%\")\n",
    "per_sanskrit= sanskrit_score*sanskrit_sum/100\n",
    "print(per_sanskrit,\"%\")\n",
    "per_telegu= telegu_score*telegu_sum/100\n",
    "print(per_telegu,\"%\")"
   ]
  },
  {
   "cell_type": "code",
   "execution_count": null,
   "id": "04dc216f",
   "metadata": {},
   "outputs": [],
   "source": []
  },
  {
   "cell_type": "code",
   "execution_count": null,
   "id": "a0361bb3",
   "metadata": {},
   "outputs": [],
   "source": [
    "total_marks = [125,100,200]\n",
    "total_math, total_chem, total_phy = total_marks\n",
    "print(total_math)\n",
    "print(total_chem)\n",
    "print(total_phy)\n",
    "#assiging a list to multiple variable, each varaible gets assigned the values from the list "
   ]
  },
  {
   "cell_type": "markdown",
   "id": "463fc037",
   "metadata": {},
   "source": [
    "#                                       ## update variable"
   ]
  },
  {
   "cell_type": "code",
   "execution_count": null,
   "id": "bbc8fecd",
   "metadata": {},
   "outputs": [],
   "source": [
    "#we can update the assigned value of variable by doing some changes as follows\n",
    "\n",
    "virat_score= 123\n",
    "virat_score= virat_score+27\n",
    "print(virat_score)"
   ]
  },
  {
   "cell_type": "code",
   "execution_count": null,
   "id": "a447ed9b",
   "metadata": {},
   "outputs": [],
   "source": [
    "virat_score=50\n",
    "virat_score+=20\n",
    "print(virat_score)\n"
   ]
  },
  {
   "cell_type": "code",
   "execution_count": null,
   "id": "984f6c2d",
   "metadata": {},
   "outputs": [],
   "source": [
    "#to calculate the total no of marks scored by each 5 student \n",
    "\n",
    "std=0\n",
    "std+=20#1\n",
    "std+=25#2\n",
    "std+=30#3\n",
    "std+=24#4\n",
    "std+=20#5\n",
    "print(std)\n"
   ]
  },
  {
   "cell_type": "code",
   "execution_count": null,
   "id": "58c273e5",
   "metadata": {},
   "outputs": [],
   "source": [
    "#calculate the total no of runs scored by team india\n",
    "\n",
    "virat=jadeja=rohit=dhavan=0\n",
    "virat+=10\n",
    "jadeja+=50\n",
    "virat+=2\n",
    "rohit+=20\n",
    "dhavan+=50\n",
    "rohit+=20\n",
    "print(virat, rohit, dhavan, jadeja)"
   ]
  },
  {
   "cell_type": "code",
   "execution_count": null,
   "id": "8ce5f75f",
   "metadata": {},
   "outputs": [],
   "source": [
    "# shortcut updates are available for +, -, * and /\n",
    "\n",
    "x=5\n",
    "x+=20\n",
    "print(x)\n",
    "\n",
    "y=5\n",
    "y-=2\n",
    "print(y)\n",
    "\n",
    "z=20\n",
    "z/=5\n",
    "print(z)\n",
    "\n",
    "q=5\n",
    "q*=4\n",
    "print(q)"
   ]
  },
  {
   "cell_type": "code",
   "execution_count": null,
   "id": "2cfcaf9b",
   "metadata": {},
   "outputs": [],
   "source": [
    "#python loops\n",
    "#while loops- it simply loops until the satament is false\n",
    "#for loop- for loop is used for iterating over a sequence (that is either a list, a tuple, a dictionary, a set, or a string).\n",
    "#initialization\n",
    "#condition\n",
    "#increment/decrement\n"
   ]
  },
  {
   "cell_type": "code",
   "execution_count": null,
   "id": "fb256852",
   "metadata": {},
   "outputs": [],
   "source": [
    "# while - else loop\n",
    "num = 5\n",
    "i = 1\n",
    "while (i <= num): #the statement will run until i becomes 6\n",
    "    print(i)\n",
    "    i += 1\n",
    "else:\n",
    "    print(\"else:\",i) #will print after i turns more than 5"
   ]
  },
  {
   "cell_type": "code",
   "execution_count": null,
   "id": "55997038",
   "metadata": {},
   "outputs": [],
   "source": [
    "#write a program to print only number from 1 to n\n",
    "\n",
    "number=int(input(\"enter the n number upto which you waant to print even number\"))\n",
    "i=2 #assigning the value 2 in i as 2 is even number so it will start from 2\n",
    "while(i<=number):\n",
    "    print(i)\n",
    "    i=i+2  #here i am using incremnt operator and increasing the value of i by 2 so that it will end up giveing even number\n",
    "    #as a result\n"
   ]
  },
  {
   "cell_type": "code",
   "execution_count": null,
   "id": "34e869f9",
   "metadata": {},
   "outputs": [],
   "source": [
    "#by using the above concept we will calculate sum of even numbeer upto n\n",
    "\n",
    "number=int(input(\"enter the number\"))\n",
    "i=2 #as we are working for even number\n",
    "sum=0 # creating a variable and assiging 0 to it\n",
    "while(i<=number):\n",
    "    sum=sum+i\n",
    "    i=i+2 #as we want even no so we will use 2 to increment the value of i\n",
    "    print(\"sum of even numbers\", sum)\n",
    "    #the statement will get executed till the value of i is less than the given no in this case i should be less thn 10,\n",
    "    #as soon as the no turns to 12 it will stop the while loop"
   ]
  },
  {
   "cell_type": "code",
   "execution_count": null,
   "id": "e914df8b",
   "metadata": {},
   "outputs": [],
   "source": [
    "#break terminates the execution of the whole loop and does not allow the loop to run further\n",
    "#continue terminates the execution of a perticular loop and again starts running the loop from the start"
   ]
  },
  {
   "cell_type": "code",
   "execution_count": null,
   "id": "d3bef2c8",
   "metadata": {},
   "outputs": [],
   "source": [
    "#lets check the break statment\n",
    "\n",
    "i=1\n",
    "while(i<=5):\n",
    "    if(i==4):\n",
    "        break\n",
    "    else:\n",
    "        print(i)\n",
    "        i=i+1  #output means that it will run untill the no is less than 4 and as soon as the no turns 4 and \n",
    "        #atisfy the if equation it will go to break and terminate the whole while loop ."
   ]
  },
  {
   "cell_type": "code",
   "execution_count": null,
   "id": "8bf4ab66",
   "metadata": {},
   "outputs": [],
   "source": [
    "#lets check continue statement\n",
    "\n",
    "i=0\n",
    "while(i<=5):\n",
    "    i=i+1\n",
    "    if(i==3):\n",
    "        continue\n",
    "    print(i) #in case of continue the moment i turns to three it will not print the value and instead it will \n",
    "    #terminate the current result with out passing it to the lower line and will start running the loop from the beiging \n",
    "    #so that is the reason 3 did not got printed but 3 got initialized to i and got incremented to 4, and 4 got printed\n"
   ]
  },
  {
   "cell_type": "code",
   "execution_count": null,
   "id": "0016bc31",
   "metadata": {},
   "outputs": [],
   "source": [
    "# while - continue\n",
    "# continue stops the current loop and initiate the next loop\n",
    "\n",
    "stop_at = 6\n",
    "i = 0\n",
    "skip_this = 4\n",
    "\n",
    "while (i <= stop_at):\n",
    "    if (i== skip_this):\n",
    "        i += 1\n",
    "        continue\n",
    "    else:\n",
    "        print(i)\n",
    "        i += 1\n",
    "        "
   ]
  },
  {
   "cell_type": "code",
   "execution_count": null,
   "id": "1e3eaa48",
   "metadata": {},
   "outputs": [],
   "source": [
    "num= 8971309425\n",
    "num//10 #will give you the quotient and will also give integar value or will remove the values after decimal\n"
   ]
  },
  {
   "cell_type": "code",
   "execution_count": null,
   "id": "6488c4fe",
   "metadata": {},
   "outputs": [],
   "source": [
    "num=8971309425\n",
    "num%10 #will give you the remainder value "
   ]
  },
  {
   "cell_type": "code",
   "execution_count": null,
   "id": "2b7e4864",
   "metadata": {},
   "outputs": [],
   "source": [
    "# print the digits of a given number\n",
    "num = 8971309425\n",
    "\n",
    "while (num != 0): #the reason we gave num!= 0, beacuse we want to run the while loop untill the no ends up being zero\n",
    "    last_digit = num % 10 #give remainder , last digit of the number\n",
    "    print(last_digit)\n",
    "    num = int(num/10) #give quotient, except the last digit\n",
    "    print (\"number now is \", num)"
   ]
  },
  {
   "cell_type": "code",
   "execution_count": null,
   "id": "71780862",
   "metadata": {},
   "outputs": [],
   "source": [
    "# total the digits of a given number\n",
    "num = 8971309425\n",
    "\n",
    "total = 0\n",
    "while (num != 0):\n",
    "    last_digit = num % 10\n",
    "    print(last_digit)\n",
    "    total = last_digit+total\n",
    "    num = int(num/10)\n",
    "    print(num)\n",
    "print(\"total of digits:\", total)"
   ]
  },
  {
   "cell_type": "markdown",
   "id": "324fa7cb",
   "metadata": {},
   "source": [
    "##for loop"
   ]
  },
  {
   "cell_type": "code",
   "execution_count": null,
   "id": "00195e15",
   "metadata": {},
   "outputs": [],
   "source": [
    "syntax: #for i in range (start value, end value):\n",
    "        #for i in range (start value, end value, jump or skip value):"
   ]
  },
  {
   "cell_type": "code",
   "execution_count": null,
   "id": "91850432",
   "metadata": {},
   "outputs": [],
   "source": [
    "#to print number from 1 to 10 using for loop\n",
    "\n",
    "for i in range (1,11):\n",
    "    print(i)"
   ]
  },
  {
   "cell_type": "code",
   "execution_count": null,
   "id": "59826256",
   "metadata": {},
   "outputs": [],
   "source": [
    "#to print number from 10 to 1 using for loop\n",
    "\n",
    "for i in range (10,0,-1): #start value= 10, end value=0, skip value= -1\n",
    "    print(i)"
   ]
  },
  {
   "cell_type": "code",
   "execution_count": null,
   "id": "623b2452",
   "metadata": {},
   "outputs": [],
   "source": [
    "for i in range(1,11):\n",
    "    print(\"3 x \",i, \" = \", 3*i)"
   ]
  },
  {
   "cell_type": "code",
   "execution_count": 22,
   "id": "0a124abb",
   "metadata": {},
   "outputs": [],
   "source": [
    "# examples of string type variables\n",
    "\n",
    "gender = \"Male\"\n",
    "mood = \"awesome\"\n",
    "forecast = \"The weather is going to be great this weekend\"\n",
    "index = \"12\"\n",
    "result = \"correct\""
   ]
  },
  {
   "cell_type": "code",
   "execution_count": 23,
   "id": "4f850ed5",
   "metadata": {},
   "outputs": [
    {
     "data": {
      "text/plain": [
       "7"
      ]
     },
     "execution_count": 23,
     "metadata": {},
     "output_type": "execute_result"
    }
   ],
   "source": [
    "weather =\"awesome\"\n",
    "len(weather)"
   ]
  },
  {
   "cell_type": "code",
   "execution_count": 24,
   "id": "a2b13aaa",
   "metadata": {},
   "outputs": [
    {
     "data": {
      "text/plain": [
       "15"
      ]
     },
     "execution_count": 24,
     "metadata": {},
     "output_type": "execute_result"
    }
   ],
   "source": [
    "mood= \"i am doing good\"\n",
    "len(mood)"
   ]
  },
  {
   "cell_type": "code",
   "execution_count": null,
   "id": "3e8a176b",
   "metadata": {},
   "outputs": [],
   "source": [
    "#Python Collections (Arrays)\n",
    "#There are four collection data types in the Python programming language:\n",
    "\n",
    "#List is a collection which is ordered and changeable. Allows duplicate members.\n",
    "#Tuple is a collection which is ordered and unchangeable. Allows duplicate members.\n",
    "#Set is a collection which is unordered, unchangeable*, and unindexed. No duplicate members.\n",
    "#Dictionary is a collection which is ordered** and changeable. No duplicate members."
   ]
  },
  {
   "cell_type": "code",
   "execution_count": null,
   "id": "3dc13766",
   "metadata": {},
   "outputs": [],
   "source": [
    "##list\n",
    "#List items are ordered, changeable, and allow duplicate values.\n",
    "#List items are indexed, the first item has index [0], the second item has index [1] etc.\n",
    "#ordered-it means that the items have a defined order, and that order will not change.\n",
    "#changeable- The list is changeable, meaning that we can change, add, and remove items in a list after it has been created.\n",
    "\n",
    "list=[\"payal\", \"balu\", \"nammu\"]\n",
    "print(list)"
   ]
  },
  {
   "cell_type": "code",
   "execution_count": null,
   "id": "413075b0",
   "metadata": {},
   "outputs": [],
   "source": [
    "#list Length\n",
    "#To determine how many items a list has, use the len() function:\n",
    "\n",
    "list=[\"payal\",\"balu\",\"nammu\"]\n",
    "print(len(list))"
   ]
  },
  {
   "cell_type": "code",
   "execution_count": null,
   "id": "4ee204a6",
   "metadata": {},
   "outputs": [],
   "source": [
    "#list can be of any datatypes\n",
    "list_1= [\"nammu\", \"payal\",\"balu\"]\n",
    "list_2= [15, 30, 1]\n",
    "list_3= [True, False]\n",
    "#list can also contain diff data types \n",
    "\n",
    "list_difftypes= [\"payal\", 30, True, \"butter\"]"
   ]
  },
  {
   "cell_type": "code",
   "execution_count": null,
   "id": "7c96cfc1",
   "metadata": {},
   "outputs": [],
   "source": [
    "# remove select element \"a\"\n",
    "lst = [1,2,3,\"payal\"]\n",
    "del(lst[2])\n",
    "lst"
   ]
  },
  {
   "cell_type": "code",
   "execution_count": null,
   "id": "2f7eea26",
   "metadata": {},
   "outputs": [],
   "source": [
    "# Mutability of Lists\n",
    "# updating list elements, here is a replace example\n",
    "lst = [1,2,3,4,5,6,7,8,9,10]\n",
    "lst[2] = 12\n",
    "lst  #means we have to specify the index no to the variable name to change the value in the list"
   ]
  },
  {
   "cell_type": "code",
   "execution_count": null,
   "id": "e8fe675a",
   "metadata": {},
   "outputs": [],
   "source": [
    "# list with lists as elements\n",
    "lstolst = [[1,2],[3,4],[5,\"a\"]]\n",
    "type(lstolst) # to know the type"
   ]
  },
  {
   "cell_type": "markdown",
   "id": "e656cdb2",
   "metadata": {},
   "source": [
    "# lists and Strings\n",
    "-----------------\n",
    "A string is a sequence of characters. A list a sequence of values which can be characters, integers or even another list \n",
    "Strings are immutable. \n",
    "When using strings, bracket operators cannot be used on the left side of an assignment with the intention\n",
    "of changing that string.\n",
    "Lists are mutable. Unlike strings, you can use the bracket operator on the left side of the assignment to change \n",
    "an element in a given list."
   ]
  },
  {
   "cell_type": "code",
   "execution_count": null,
   "id": "196fea06",
   "metadata": {},
   "outputs": [],
   "source": [
    "# compare lists\n",
    "txt1 = [\"Python\", \"is\", \"the\", \"best\"]\n",
    "txt2 = [\"PYTHON\", \"is\", \"the\", \"best\"]\n",
    "txt3 = [\"Python\", \"is\", \"the\", \"best\"]"
   ]
  },
  {
   "cell_type": "code",
   "execution_count": null,
   "id": "c5d99262",
   "metadata": {},
   "outputs": [],
   "source": [
    "txt1 == txt2, txt1 == txt3"
   ]
  },
  {
   "cell_type": "code",
   "execution_count": null,
   "id": "7bf32d0c",
   "metadata": {},
   "outputs": [],
   "source": [
    "#The collections.Counter() class can be used to compare lists. The counter() function counts the frequency of the items in a list and stores the data as a dictionary object in the format value:frequency. If two lists have the same dictionary output, you can infer that the lists are the same.\n",
    "\n",
    "# note: dictionary type will be covered in a separate session. for now just see it as a name:value pairs"
   ]
  },
  {
   "cell_type": "code",
   "execution_count": null,
   "id": "3db16f82",
   "metadata": {},
   "outputs": [],
   "source": [
    "import collections\n",
    "\n",
    "l1 = [10, 20, 30, 40, 50]\n",
    "l2 = [20, 30, 50, 40, 70]\n",
    "l3 = [50, 20, 30, 40, 10]\n",
    "\n",
    "if collections.Counter(l1) == collections.Counter(l2):\n",
    "    print (\"The lists l1 and l2 are the same\")\n",
    "else:\n",
    "    print (\"The lists l1 and l2 are not the same\")\n",
    "\n",
    "if collections.Counter(l1) == collections.Counter(l3):\n",
    "    print (\"The lists l1 and l3 are the same\")\n",
    "else:\n",
    "    print (\"The lists l1 and l3 are not the same\")"
   ]
  },
  {
   "cell_type": "code",
   "execution_count": null,
   "id": "31abc9a8",
   "metadata": {},
   "outputs": [],
   "source": [
    "#Given two lists, find the missing and additional values in both the lists. Examples:\n",
    "list1 = [1, 2, 3, 4, 5, 6] \n",
    "list2 = [4, 5, 6, 7, 8] \n",
    "# prints the missing and additional elements in list2\n",
    "print(\"Missing values in second list:\", (set(list1).difference(list2)))\n",
    "print(\"Additional values in second list:\", (set(list2).difference(list1)))\n",
    " \n",
    "# prints the missing and additional elements in list1\n",
    "print(\"Missing values in first list:\", (set(list2).difference(list1)))\n",
    "print(\"Additional values in first list:\", (set(list1).difference(list2)))"
   ]
  },
  {
   "cell_type": "markdown",
   "id": "8bdb5254",
   "metadata": {},
   "source": [
    "# Dictionary\n",
    "#Dictionaries are used to store data values in key:value pairs.\n",
    "#A dictionary is a collection which is ordered*, changeable and do not allow duplicates."
   ]
  },
  {
   "cell_type": "code",
   "execution_count": null,
   "id": "9aecff06",
   "metadata": {},
   "outputs": [],
   "source": [
    "#Dictionary Items\n",
    "#Dictionary items are ordered, changeable, and does not allow duplicates.\n",
    "#Dictionary items are presented in key:value pairs, and can be referred to by using the key name."
   ]
  },
  {
   "cell_type": "code",
   "execution_count": null,
   "id": "4ecdafbf",
   "metadata": {},
   "outputs": [],
   "source": [
    "dict={\"actor\":\"prabhas\", \"movie\": \"bahubali\", \"status\":\"blockbuster\"}\n",
    "print(dict)"
   ]
  },
  {
   "cell_type": "code",
   "execution_count": null,
   "id": "981b5883",
   "metadata": {},
   "outputs": [],
   "source": [
    "dict={\"actor\":\"prabhas\", \"movie\": \"bahubali\", \"status\":\"blockbuster\"}\n",
    "print(dict['status'])"
   ]
  },
  {
   "cell_type": "code",
   "execution_count": null,
   "id": "393a5b3e",
   "metadata": {},
   "outputs": [],
   "source": [
    "#When we say that dictionaries are ordered, it means that the items have a defined order, and that order will not change.\n",
    "#Unordered means that the items does not have a defined order, you cannot refer to an item by using an index.\n",
    "#Duplicate values will overwrite existing values, ictionaries cannot have two items with the same key:"
   ]
  },
  {
   "cell_type": "code",
   "execution_count": null,
   "id": "7912f000",
   "metadata": {},
   "outputs": [],
   "source": [
    "dict={\"actor\":\"prabhas\", \"movie\": \"bahubali\", \"status\":\"blockbuster\", \"status\":\"flop\"}\n",
    "print(dict['status'])"
   ]
  },
  {
   "cell_type": "code",
   "execution_count": null,
   "id": "71856498",
   "metadata": {},
   "outputs": [],
   "source": [
    "##Print the number of items in the dictionary:we use print(len(dict))"
   ]
  },
  {
   "cell_type": "code",
   "execution_count": null,
   "id": "b7766625",
   "metadata": {},
   "outputs": [],
   "source": [
    "print(len(dict))"
   ]
  },
  {
   "cell_type": "code",
   "execution_count": null,
   "id": "da56556f",
   "metadata": {},
   "outputs": [],
   "source": [
    "print(type(dict)) #to find the data type of dictionary"
   ]
  },
  {
   "cell_type": "code",
   "execution_count": null,
   "id": "9880a147",
   "metadata": {},
   "outputs": [],
   "source": [
    "# Creating a Dictionary with Mixed keys\n",
    "Dict = {'Country': 'India', 1: [1, 9, 4, 7]}\n",
    "print(\"\\nDictionary with the use of Mixed Keys: \")\n",
    "print(Dict)"
   ]
  },
  {
   "cell_type": "code",
   "execution_count": null,
   "id": "b75b04b7",
   "metadata": {},
   "outputs": [],
   "source": [
    "# dictionary is a very useful data type\n",
    "products = {'Modelname':['AA','BB','CC'], 'MakeYear':[2014,2015,2016]}\n",
    "print(type(products))\n",
    "print(products)\n",
    "print(products[\"Modelname\"])"
   ]
  },
  {
   "cell_type": "code",
   "execution_count": null,
   "id": "e38e6ce1",
   "metadata": {},
   "outputs": [],
   "source": [
    "college_grades={'harry':[20,18,26],\n",
    "               'snape':[16,26,39],\n",
    "               'stewie':[26,39,19]\n",
    "}\n",
    "marks_obtatined=0\n",
    "for name, grade in college_grades.items():\n",
    "    total=sum(grade)\n",
    "    print(f'Average for {name} is {total/len(grade):.2f}')\n",
    "                                  \n",
    "    "
   ]
  },
  {
   "cell_type": "markdown",
   "id": "c45903fc",
   "metadata": {},
   "source": [
    "# Numpy"
   ]
  },
  {
   "cell_type": "code",
   "execution_count": null,
   "id": "1954f5ce",
   "metadata": {},
   "outputs": [],
   "source": [
    "NumPy is a Python library.\n",
    "\n",
    "NumPy is used for working with arrays.\n",
    "\n",
    "NumPy is short for \"Numerical Python\""
   ]
  },
  {
   "cell_type": "code",
   "execution_count": null,
   "id": "4e894db9",
   "metadata": {},
   "outputs": [],
   "source": [
    "\n",
    "\n",
    "import numpy as np\n",
    "np.array([1,2,3])"
   ]
  },
  {
   "cell_type": "code",
   "execution_count": null,
   "id": "e4a402e8",
   "metadata": {},
   "outputs": [],
   "source": []
  },
  {
   "cell_type": "code",
   "execution_count": null,
   "id": "122cc313",
   "metadata": {},
   "outputs": [],
   "source": [
    "a=np.array ([[1,2,3], [3,4,5], [5,6,7]])\n",
    "a\n",
    "a= np.zeros ((3,3))\n",
    "a"
   ]
  },
  {
   "cell_type": "code",
   "execution_count": null,
   "id": "eaa5141d",
   "metadata": {},
   "outputs": [],
   "source": [
    "a= np.array(np.random.randint(0,10,(3,3)))\n",
    "print(a)"
   ]
  },
  {
   "cell_type": "code",
   "execution_count": null,
   "id": "b059a861",
   "metadata": {},
   "outputs": [],
   "source": [
    "b=np.array(np.random.randint(0,10,(3,3)))\n",
    "print (b)"
   ]
  },
  {
   "cell_type": "code",
   "execution_count": null,
   "id": "23e9738e",
   "metadata": {},
   "outputs": [],
   "source": [
    "c=np.dot(a,b)\n",
    "print (c)"
   ]
  },
  {
   "cell_type": "code",
   "execution_count": null,
   "id": "37b60824",
   "metadata": {},
   "outputs": [],
   "source": [
    "#transpose\n",
    "a= np.array(np.random.randint(0,10,(3,3)))\n",
    "print(a)"
   ]
  },
  {
   "cell_type": "code",
   "execution_count": null,
   "id": "e0c00b1a",
   "metadata": {},
   "outputs": [],
   "source": [
    "#inverse of matrix\n",
    "\n",
    "a= np.array([[1,2,3], [3,4,5], [5,6,7]])\n",
    "a"
   ]
  },
  {
   "cell_type": "code",
   "execution_count": null,
   "id": "42d6fa19",
   "metadata": {},
   "outputs": [],
   "source": [
    "ainv = np.linalg.inv(a)\n",
    "ainv"
   ]
  },
  {
   "cell_type": "markdown",
   "id": "8decbc8d",
   "metadata": {},
   "source": [
    "# PANDAS"
   ]
  },
  {
   "cell_type": "code",
   "execution_count": null,
   "id": "ece14a89",
   "metadata": {},
   "outputs": [],
   "source": [
    "import pandas\n",
    "\n",
    "mydataset = {\n",
    "  'cars': [\"BMW\", \"Volvo\", \"Ford\"],\n",
    "  'passings': [3, 7, 2]\n",
    "}\n",
    "\n",
    "myvar = pandas.DataFrame(mydataset)\n",
    "\n",
    "print(myvar)"
   ]
  },
  {
   "cell_type": "code",
   "execution_count": null,
   "id": "d90c26eb",
   "metadata": {},
   "outputs": [],
   "source": [
    "import pandas as pd\n",
    "a = [1, 7, 2]\n",
    "\n",
    "myvar = pd.Series(a)\n",
    "\n",
    "print(myvar)"
   ]
  },
  {
   "cell_type": "code",
   "execution_count": null,
   "id": "d1184aba",
   "metadata": {},
   "outputs": [],
   "source": [
    "import pandas as pd\n",
    "\n",
    "data = {\n",
    "  \"calories\": [420, 380, 390],\n",
    "  \"duration\": [50, 40, 45]\n",
    "}\n",
    "\n",
    "#load data into a DataFrame object:\n",
    "df = pd.DataFrame(data)\n",
    "\n",
    "print(df) "
   ]
  },
  {
   "cell_type": "code",
   "execution_count": null,
   "id": "28168192",
   "metadata": {},
   "outputs": [],
   "source": [
    "def Square(num): #()-(we give perameter ) perameter is any value which you want to use in code\n",
    "   \n",
    "    print (num**2)\n",
    "    \n",
    "Square(7)\n"
   ]
  },
  {
   "cell_type": "code",
   "execution_count": null,
   "id": "a7ebec22",
   "metadata": {},
   "outputs": [],
   "source": [
    "def Square():#()-(we give perameter ) perameter is any value which you want to use in code\n",
    "    num=2\n",
    "    print (num**2)\n",
    "    \n",
    "Square()"
   ]
  },
  {
   "cell_type": "code",
   "execution_count": null,
   "id": "016ad8d7",
   "metadata": {},
   "outputs": [],
   "source": [
    "# Define a Square Function with default value for paramater\n",
    "def printNumSquare(num=0.8):\n",
    "    print (num**5)\n",
    "printNumSquare()"
   ]
  },
  {
   "cell_type": "code",
   "execution_count": null,
   "id": "60d1b4f5",
   "metadata": {},
   "outputs": [],
   "source": [
    "# Call the function without passing a single param\n",
    "printNumSquare(3)"
   ]
  },
  {
   "cell_type": "code",
   "execution_count": null,
   "id": "98754f22",
   "metadata": {},
   "outputs": [],
   "source": [
    "#A function is a block of code which only runs when it is called.\n",
    "#You can pass data, known as parameters, into a function.\n",
    "#A function can return data as a result.\n",
    "\n"
   ]
  },
  {
   "cell_type": "code",
   "execution_count": null,
   "id": "dcf6a461",
   "metadata": {},
   "outputs": [],
   "source": [
    "In Python a function is defined using the def keyword:"
   ]
  },
  {
   "cell_type": "code",
   "execution_count": null,
   "id": "35f05485",
   "metadata": {},
   "outputs": [],
   "source": [
    "def my_function(fname):\n",
    "      print(fname + \" Refsnes\")\n",
    "\n",
    "my_function(\"Emil\")\n",
    "my_function(\"Tobias\")\n",
    "my_function(\"Linus\")"
   ]
  },
  {
   "cell_type": "code",
   "execution_count": null,
   "id": "fa4b4a19",
   "metadata": {},
   "outputs": [],
   "source": []
  }
 ],
 "metadata": {
  "kernelspec": {
   "display_name": "Python 3 (ipykernel)",
   "language": "python",
   "name": "python3"
  },
  "language_info": {
   "codemirror_mode": {
    "name": "ipython",
    "version": 3
   },
   "file_extension": ".py",
   "mimetype": "text/x-python",
   "name": "python",
   "nbconvert_exporter": "python",
   "pygments_lexer": "ipython3",
   "version": "3.9.12"
  }
 },
 "nbformat": 4,
 "nbformat_minor": 5
}
